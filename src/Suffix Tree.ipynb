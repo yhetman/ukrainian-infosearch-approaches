{
 "cells": [
  {
   "cell_type": "markdown",
   "metadata": {},
   "source": [
    "# Suffix Tree Term\n"
   ]
  },
  {
   "cell_type": "markdown",
   "metadata": {},
   "source": [
    "\n",
    "#### Made by Yuliia Hetman"
   ]
  },
  {
   "cell_type": "code",
   "execution_count": 1,
   "metadata": {
    "scrolled": true
   },
   "outputs": [
    {
     "name": "stdout",
     "output_type": "stream",
     "text": [
      "Total number of words : 708449\n",
      "Total number of tokens : 94292\n",
      "CPU times: user 662 ms, sys: 384 ms, total: 1.05 s\n",
      "Wall time: 1.17 s\n"
     ]
    }
   ],
   "source": [
    "%%time\n",
    "from multiprocessing import Pool\n",
    "import re, os, json\n",
    "from string import digits\n",
    "import pandas as pd\n",
    "\n",
    "docIDs = list(range(0, 18))\n",
    "\n",
    "def delete_sings_digits(content):\n",
    "    punc = '''!()-'”№[]{};:\"\\,“«»<>./?@#$%—…^&*_~|–abcdefghijklmnoqprstuvwxyz'''\n",
    "    content = \"\".join([ele for ele in content.lower() if ele not in punc])\n",
    "    table = str.maketrans('', '', digits)\n",
    "    content = content.translate(table)\n",
    "    return content\n",
    "\n",
    "\n",
    "def create_vocabulary(content):    \n",
    "    raw_content = delete_sings_digits(content)\n",
    "    vocab = [i.lower() for i in raw_content.split() if i != '']\n",
    "    return vocab\n",
    "\n",
    "def read_book(book):\n",
    "    dirname='../books/'\n",
    "    with open(dirname + book, 'r', encoding='utf-8') as file:\n",
    "        text = create_vocabulary(file.read())\n",
    "    return text\n",
    "\n",
    "        \n",
    "def get_vocabulary(dirname='../books/'):\n",
    "    books = os.listdir(dirname)\n",
    "    vocabulary = list()\n",
    "    dictionary = dict()\n",
    "    memory = 0\n",
    "    with Pool(8) as p:\n",
    "        vocabul = p.map(read_book, books)\n",
    "    for i, book in enumerate(books):\n",
    "        dictionary[book.replace('.txt', '')] = vocabul[i]\n",
    "        vocabulary += vocabul[i]\n",
    "        memory += os.stat(dirname + book).st_size\n",
    "    return memory, vocabulary, dictionary\n",
    "\n",
    "\n",
    "memory, vocabulary, dictionary = get_vocabulary()\n",
    "print(f'Total number of words : {len(vocabulary)}')\n",
    "print(f'Total number of tokens : {len(set(vocabulary))}')"
   ]
  },
  {
   "cell_type": "code",
   "execution_count": 2,
   "metadata": {},
   "outputs": [],
   "source": [
    "def check_components(parts, word, state='ordinary'):\n",
    "    temp = 0\n",
    "    if state == 'ordinary' and word.find(parts[0]) != 0:\n",
    "        return False\n",
    "    if state == 'parts':\n",
    "        temp = word.find(parts[0])\n",
    "    for i in range(1, len(parts)):\n",
    "        ind = word.find(parts[i])\n",
    "        if temp < ind:\n",
    "            temp = ind\n",
    "            continue\n",
    "        else:\n",
    "            return False\n",
    "    return True\n",
    "\n",
    "\n",
    "def get_intersection(l1, l2):\n",
    "    return list(set(l1) & set(l2))\n",
    "\n",
    "\n",
    "def isUkrainian(word):\n",
    "    ukrainian = [96, 1072, 1073, 1074, 1075, 1076, 1077, 1078, 1079, 1080, 1081, 1082, 1083, 1084, 1085, 1086, 1087, 1088, 1089, 1090, 1091, 1092, 1093, 1094, 1095, 1096, 1097, 1100, 1102, 1103, 1108, 1110, 1111, 1169, 8217]\n",
    "    for l in word:\n",
    "        if ord(l) not in ukrainian:\n",
    "            return False\n",
    "    return True\n",
    "       "
   ]
  },
  {
   "cell_type": "code",
   "execution_count": 3,
   "metadata": {},
   "outputs": [],
   "source": [
    "class TreeNode():\n",
    "    def __init__(self):\n",
    "        self.children = {}\n",
    "        self.last = False\n",
    " \n",
    " \n",
    "class Tree():\n",
    "    def __init__(self):\n",
    "        self.root = TreeNode()\n",
    " \n",
    "    def insert(self, key):\n",
    "        node = self.root\n",
    "        for a in key:\n",
    "            if not node.children.get(a):\n",
    "                node.children[a] = TreeNode()\n",
    "            node = node.children[a]\n",
    "        node.last = True\n",
    " \n",
    "    def suggestions_recursive(self, node, word, results):\n",
    "        if node.last:\n",
    "            results.append(word)\n",
    "        for a, n in node.children.items():\n",
    "            self.suggestions_recursive(n, word + a, results)\n",
    " \n",
    "    def find_suggestions(self, key):\n",
    "        results = list()\n",
    "        node = self.root\n",
    "        for a in key:\n",
    "            if not node.children.get(a):\n",
    "                return 0, results\n",
    "            node = node.children[a]\n",
    "        if not node.children:\n",
    "            return -1, results\n",
    "        self.suggestions_recursive(node, key, results)\n",
    "        return 1, results\n",
    "\n",
    "\n"
   ]
  },
  {
   "cell_type": "code",
   "execution_count": 4,
   "metadata": {},
   "outputs": [],
   "source": [
    "\n",
    "class TreeSearchTool():\n",
    "    def __init__(self, vocabulary):\n",
    "        self.tree = Tree()\n",
    "        self.inverse = Tree()\n",
    "        self.vocabulary = set(vocabulary)\n",
    "        self.only_ukrainian = list()\n",
    "        self.only_ukrainian = self.check_vocabulary()\n",
    "        self.create_tree()\n",
    "        self.create_inverse_tree()\n",
    "\n",
    "\n",
    "    def check_vocabulary(self):\n",
    "        self.only_ukrainian = [k for k in self.vocabulary if isUkrainian(k) == True]\n",
    "\n",
    "\n",
    "    def create_inverse_tree(self):\n",
    "        for word in self.vocabulary:\n",
    "            self.inverse.insert(word[::-1])\n",
    "            \n",
    "\n",
    "    def create_tree(self):\n",
    "        for word in self.vocabulary:\n",
    "            self.tree.insert(word)\n",
    "   \n",
    "\n",
    "    def search_with_one_jocker(self, string, star='last'):\n",
    "        index_jocker = string.find(\"*\")\n",
    "        if index_jocker == -1:\n",
    "            success, suggestions = self.tree.find_suggestions(string)\n",
    "            return success , [s for s in suggestions if s == string]\n",
    "        if index_jocker == len(string) - 1:\n",
    "            return self.tree.find_suggestions(string[:index_jocker])    \n",
    "        _, versionsStart = self.tree.find_suggestions(string[:index_jocker])\n",
    "        end = string[string.rfind(\"*\") + 1:]\n",
    "        _, versionsEnd = self.inverse.find_suggestions(end[::-1])\n",
    "        versionsEnd = [i[::-1] for i in versionsEnd]\n",
    "        inter = get_intersection(versionsStart, versionsEnd)\n",
    "        if star == 'last':\n",
    "            return 1, self.check_possible_variants(string.split('*'), inter)\n",
    "        return 1 , self.check_possible_variants(string.split('*'), inter, star='first')\n",
    "\n",
    "    \n",
    "    def check_possible_variants(self, parts, possible_res, star='last', state='ordinary'):\n",
    "        variants = list()\n",
    "        for word in possible_res:\n",
    "            if check_components(parts, word, state) == True:\n",
    "                variants.append(word)\n",
    "            else:\n",
    "                continue\n",
    "        if star == 'first':\n",
    "            return [i[::-1] for i in variants]\n",
    "        return variants\n",
    "    \n",
    "\n",
    "    def check_jockers(self, string):\n",
    "        stars = string.count('*')\n",
    "        parts = [i for i in string.split('*') if i != '']\n",
    "        if string[0] != '*' and string[-1] == '*' and len(parts) <= stars:\n",
    "            _, suggestions = self.tree.find_suggestions(string[:string.find('*')])\n",
    "            return self.check_possible_variants(parts, suggestions)\n",
    "        elif string[0] == '*' and len(parts) <= stars and string[-1] != '*':\n",
    "            shorted = string[1:]\n",
    "            shorted = shorted[::-1]\n",
    "            _, suggestions = self.inverse.find_suggestions(shorted[:shorted.find('*')])\n",
    "            return self.check_possible_variants(shorted.split('*'), suggestions, star='first')\n",
    "        elif string[0] != '*'  and string[-1] != '*' and stars < 2:\n",
    "            return self.search_with_one_jocker(string, star='last')\n",
    "        elif string[0] == '*'  and string[-1] == '*':\n",
    "            suggestions = [i for i in self.vocabulary if i.find(parts[0]) != -1]\n",
    "            return self.check_possible_variants(parts, suggestions, state='parts')\n",
    "        else:\n",
    "            _, suggestions = self.search_with_one_jocker(string)\n",
    "            return suggestions"
   ]
  },
  {
   "cell_type": "markdown",
   "metadata": {},
   "source": [
    "## Define Tree"
   ]
  },
  {
   "cell_type": "code",
   "execution_count": 5,
   "metadata": {},
   "outputs": [
    {
     "name": "stdout",
     "output_type": "stream",
     "text": [
      "CPU times: user 4.35 s, sys: 112 ms, total: 4.46 s\n",
      "Wall time: 4.46 s\n"
     ]
    }
   ],
   "source": [
    "%%time\n",
    "tree_search_tool = TreeSearchTool(vocabulary)"
   ]
  },
  {
   "cell_type": "markdown",
   "metadata": {},
   "source": [
    "## Check search with different amount and positions of jockers"
   ]
  },
  {
   "cell_type": "code",
   "execution_count": 6,
   "metadata": {},
   "outputs": [
    {
     "name": "stdout",
     "output_type": "stream",
     "text": [
      "['їстівні', 'тісніше', 'тіснім', 'тіні', 'тіснішим', 'натільній', 'бастіоні', 'тісній', 'тіснині', 'цвітінні', 'втішні', 'отінені', 'стіні', 'ватікані', 'затісні', 'постійні', 'постійність', 'невтішні', 'сутіні', 'тісні', 'тремтінні', 'тітчиній', 'палахтінні', 'затіненій', 'постійній', 'непотішнії']\n",
      "CPU times: user 35.3 ms, sys: 0 ns, total: 35.3 ms\n",
      "Wall time: 34.8 ms\n"
     ]
    }
   ],
   "source": [
    "%%time\n",
    "found_results = tree_search_tool.check_jockers('*ті*ні*')\n",
    "print(found_results)"
   ]
  },
  {
   "cell_type": "code",
   "execution_count": 7,
   "metadata": {},
   "outputs": [
    {
     "name": "stdout",
     "output_type": "stream",
     "text": [
      "['тітчиній', 'тісні', 'тісніше', 'тіснішим', 'тіснім', 'тісній', 'тіснині', 'тіні']\n",
      "CPU times: user 450 µs, sys: 0 ns, total: 450 µs\n",
      "Wall time: 454 µs\n"
     ]
    }
   ],
   "source": [
    "%%time\n",
    "found_results = tree_search_tool.check_jockers('ті*ні*')\n",
    "print(found_results)"
   ]
  },
  {
   "cell_type": "code",
   "execution_count": 8,
   "metadata": {},
   "outputs": [
    {
     "name": "stdout",
     "output_type": "stream",
     "text": [
      "(1, ['тіснині', 'тісні', 'тіні'])\n",
      "CPU times: user 5.67 ms, sys: 0 ns, total: 5.67 ms\n",
      "Wall time: 5.64 ms\n"
     ]
    }
   ],
   "source": [
    "%%time\n",
    "found_results = tree_search_tool.check_jockers('ті*ні')\n",
    "print(found_results)"
   ]
  },
  {
   "cell_type": "code",
   "execution_count": 9,
   "metadata": {},
   "outputs": [
    {
     "name": "stdout",
     "output_type": "stream",
     "text": [
      "['ті', 'тібр', 'тібрі', 'тібра', 'тібру', 'тібету', 'тібо', 'тітко', 'тіткою', 'тітки', 'тітку', 'тітка', 'тіточка', 'тітонька', 'тітонько', 'тітусю', 'тітці', 'тітчину', 'тітчиної', 'тітчиній', 'тісні', 'тісніше', 'тіснішим', 'тіснім', 'тісній', 'тісно', 'тіснота', 'тісноту', 'тісноти', 'тісноті', 'тісної', 'тісного', 'тісний', 'тісниною', 'тіснині', 'тіснину', 'тіснини', 'тісних', 'тісна', 'тісну', 'тісненьке', 'тістечко', 'тістечком', 'тістечка', 'тістечками', 'тістечок', 'тісто', 'тіста', 'тісті', 'тіпала', 'тіпалась', 'тіпало', 'тіпалось', 'тіпалося', 'тіпався', 'тіпає', 'тіпається', 'тіпаєтьсябється', 'тіпнувся', 'тім', 'тімаха', 'тімя', 'тімям', 'тімї', 'тімто', 'тік', 'тікич', 'тікичем', 'тікать', 'тікати', 'тікаю', 'тікаючи', 'тікають', 'тікай', 'тікає', 'тікаєш', 'тікала', 'тікали', 'тікав', 'тішилися', 'тішились', 'тішила', 'тішилась', 'тішилася', 'тішило', 'тішити', 'тішитись', 'тішитися', 'тішить', 'тішив', 'тішився', 'тішать', 'тішаться', 'тішачись', 'тіштеся', 'тіл', 'тіла', 'тілами', 'тількі', 'тільки', 'тількино', 'тількитільки', 'тілький', 'тілько', 'тількотілько', 'тільця', 'тіло', 'тілом', 'тілиста', 'тілу', 'тілі', 'тілець', 'тіє', 'тієї', 'тією', 'тіней', 'тіні', 'тінями', 'тінях', 'тінню', 'тінь', 'тіньтіньтіньтіньтіінь', 'тіара', 'тіарах', 'тіари', 'тіарі', 'тіару', 'тій', 'тійтаки', 'тіг', 'тіверіаду', 'тіверіадо', 'тіверіади', 'тіверіаді', 'тівкнула', 'тії', 'тічок', 'тічки', 'тіжкі', 'тірольських', 'тірольської', 'тіхоокеанская', 'тііі']\n",
      "CPU times: user 438 µs, sys: 44 µs, total: 482 µs\n",
      "Wall time: 488 µs\n"
     ]
    }
   ],
   "source": [
    "%%time\n",
    "found_results = tree_search_tool.check_jockers('ті*')\n",
    "print(found_results)"
   ]
  },
  {
   "cell_type": "code",
   "execution_count": 11,
   "metadata": {
    "scrolled": false
   },
   "outputs": [
    {
     "name": "stdout",
     "output_type": "stream",
     "text": [
      "['їстівні', 'консервовані', 'механічного', 'ніжинські', 'наталчиній', 'пильні', 'салонівагоні', 'бабиній', 'зачервонілась', 'заґратовані']\n",
      "CPU times: user 8.95 ms, sys: 1.09 s, total: 1.1 s\n",
      "Wall time: 1.2 s\n"
     ]
    }
   ],
   "source": [
    "%%time\n",
    "found_results = tree_search_tool.check_jockers('*ні*')\n",
    "print(found_results[:10])"
   ]
  }
 ],
 "metadata": {
  "kernelspec": {
   "display_name": "Python 3",
   "language": "python",
   "name": "python3"
  },
  "language_info": {
   "codemirror_mode": {
    "name": "ipython",
    "version": 3
   },
   "file_extension": ".py",
   "mimetype": "text/x-python",
   "name": "python",
   "nbconvert_exporter": "python",
   "pygments_lexer": "ipython3",
   "version": "3.7.6"
  }
 },
 "nbformat": 4,
 "nbformat_minor": 4
}
