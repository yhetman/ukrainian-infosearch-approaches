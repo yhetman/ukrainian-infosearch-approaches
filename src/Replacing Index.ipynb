{
 "cells": [
  {
   "cell_type": "code",
   "execution_count": 2,
   "metadata": {},
   "outputs": [
    {
     "name": "stdout",
     "output_type": "stream",
     "text": [
      "Тигролови.txt is read!\n",
      "Захар_Беркут.txt is read!\n",
      "Камінний_хрест.txt is read!\n",
      "Intermezzo.txt is read!\n",
      "Хіба_ревуть_воли_як_ясла_повні.txt is read!\n",
      "Чорна_Рада.txt is read!\n",
      "Я_романтика.txt is read!\n",
      "Земля.txt is read!\n",
      "Кобзар.txt is read!\n",
      "Лісова_пісня.txt is read!\n",
      "Місто.txt is read!\n",
      "Маруся_Чурай.txt is read!\n",
      "Климко.txt is read!\n",
      "Зів'яле_листя.txt is read!\n",
      "Мина_Мазайло.txt is read!\n",
      "Тіні_забутих_предків.txt is read!\n",
      "Мартин_Боруля.txt is read!\n",
      "Кайдашева_сім'я.txt is read!\n",
      "Total number of words : 708449\n",
      "Total number of tokens : 94292\n",
      "CPU times: user 1.47 s, sys: 84.1 ms, total: 1.55 s\n",
      "Wall time: 1.97 s\n"
     ]
    }
   ],
   "source": [
    "%%time\n",
    "from multiprocessing import Pool\n",
    "import re, os, json\n",
    "from string import digits\n",
    "import pandas as pd\n",
    "\n",
    "docIDs = list(range(0, 18))\n",
    "\n",
    "def delete_sings_digits(content):\n",
    "    punc = '''!()-'”№[]{};:\"\\,“«»<>./?@#$%—…^&*_~|–abcdefghijklmnoqprstuvwxyz'''\n",
    "    content = \"\".join([ele for ele in content.lower() if ele not in punc])\n",
    "    table = str.maketrans('', '', digits)\n",
    "    content = content.translate(table)\n",
    "    return content\n",
    "\n",
    "\n",
    "def create_vocabulary(content):    \n",
    "    raw_content = delete_sings_digits(content)\n",
    "    vocab = [i.lower() for i in raw_content.split() if i != '']\n",
    "    return vocab\n",
    "\n",
    "def read_book(book):\n",
    "    dirname='../books/'\n",
    "#     tree = Tree()\n",
    "    with open(dirname + book, 'r', encoding='utf-8') as file:\n",
    "        text = create_vocabulary(file.read())\n",
    "#     unique = list(set(text))\n",
    "#     for key in unique:\n",
    "#         tree.insert(key)\n",
    "    return text\n",
    "\n",
    "\n",
    "def isUkrainian(word):\n",
    "    ukrainian = [96, 1072, 1073, 1074, 1075, 1076, 1077, 1078, 1079, 1080, 1081, 1082, 1083, 1084, 1085, 1086, 1087, 1088, 1089, 1090, 1091, 1092, 1093, 1094, 1095, 1096, 1097, 1100, 1102, 1103, 1108, 1110, 1111, 1169, 8217]\n",
    "    for l in word:\n",
    "        if ord(l) not in ukrainian:\n",
    "#             print(\"NOT UKRAINIAN LETTER:\", l, \"IN WORD\", key)\n",
    "            return False\n",
    "    return True\n",
    "       \n",
    "        \n",
    "def get_vocabulary(dirname='../books/'):\n",
    "    books = os.listdir(dirname)\n",
    "    vocabulary = list()\n",
    "    dictionary = dict()\n",
    "    memory = 0\n",
    "    with Pool(8) as p:\n",
    "        vocabul = p.map(read_book, books)\n",
    "    for i, book in enumerate(books):\n",
    "        dictionary[book.replace('.txt', '')] = vocabul[i]\n",
    "        vocabulary += vocabul[i]\n",
    "        print(book, \"is read!\")\n",
    "        memory += os.stat(dirname + book).st_size\n",
    "    return memory, vocabulary, dictionary\n",
    "\n",
    "\n",
    "memory, vocabulary, dictionary = get_vocabulary()\n",
    "print(f'Total number of words : {len(vocabulary)}')\n",
    "print(f'Total number of tokens : {len(set(vocabulary))}')\n",
    "\n",
    "# tree = Tree()\n",
    "ukr_voc = [k for k in vocabulary if isUkrainian(k) == True]"
   ]
  },
  {
   "cell_type": "code",
   "execution_count": 11,
   "metadata": {},
   "outputs": [
    {
     "data": {
      "text/plain": [
       "707575"
      ]
     },
     "execution_count": 11,
     "metadata": {},
     "output_type": "execute_result"
    }
   ],
   "source": [
    "len(ukr_voc)"
   ]
  },
  {
   "cell_type": "code",
   "execution_count": 3,
   "metadata": {},
   "outputs": [],
   "source": [
    "from itertools import zip_longest, islice\n",
    "\n",
    "\n",
    "def to_int_keys_best(l):\n",
    "    \"\"\"\n",
    "    l: iterable of keys\n",
    "    returns: a list with integer keys\n",
    "    \"\"\"\n",
    "    seen = set()\n",
    "    ls = []\n",
    "    for e in l:\n",
    "        if not e in seen:\n",
    "            ls.append(e)\n",
    "            seen.add(e)\n",
    "    ls.sort()\n",
    "    index = {v: i for i, v in enumerate(ls)}\n",
    "    return [index[v] for v in l]\n",
    "\n",
    "\n",
    "def suffix_matrix_best(s):\n",
    "    \"\"\"\n",
    "    suffix matrix of s\n",
    "    O(n * log(n)^2)\n",
    "    \"\"\"\n",
    "    n = len(s)\n",
    "    k = 1\n",
    "    line = to_int_keys_best(s)\n",
    "    ans = [line]\n",
    "    while max(line) < n - 1:\n",
    "        line = to_int_keys_best(\n",
    "            [a * (n + 1) + b + 1\n",
    "             for (a, b) in\n",
    "             zip_longest(line, islice(line, k, None),\n",
    "                         fillvalue=-1)])\n",
    "        ans.append(line)\n",
    "        k <<= 1\n",
    "    return ans\n",
    "\n",
    "\n",
    "def suffix_array_best(s):\n",
    "    \"\"\"\n",
    "    suffix array of s\n",
    "    O(n * log(n)^2)\n",
    "    \"\"\"\n",
    "    n = len(s)\n",
    "    k = 1\n",
    "    line = to_int_keys_best(s)\n",
    "    while max(line) < n - 1:\n",
    "        line = to_int_keys_best(\n",
    "            [a * (n + 1) + b + 1\n",
    "             for (a, b) in\n",
    "             zip_longest(line, islice(line, k, None),\n",
    "                         fillvalue=-1)])\n",
    "        k <<= 1\n",
    "    return line\n"
   ]
  },
  {
   "cell_type": "code",
   "execution_count": 10,
   "metadata": {},
   "outputs": [
    {
     "name": "stdout",
     "output_type": "stream",
     "text": [
      "('a', 5)\n",
      "('ana', 3)\n",
      "('anana', 1)\n",
      "('banana', 0)\n",
      "('na', 4)\n",
      "('nana', 2)\n"
     ]
    },
    {
     "data": {
      "text/plain": [
       "[5, 3, 1, 0, 4, 2]"
      ]
     },
     "execution_count": 10,
     "metadata": {},
     "output_type": "execute_result"
    }
   ],
   "source": [
    "\n",
    "\n",
    "def suffix_array_alternative_naive(s):\n",
    "    suffixes = [(suffix, rank) for suffix, rank in sorted((s[i:], i) for i in range(len(s)))]\n",
    "    for i in range(len(suffixes)):\n",
    "        print(suffixes[i])\n",
    "    return [rank for suffix, rank in sorted((s[i:], i) for i in range(len(s)))]\n",
    "\n",
    "suffix_array_alternative_naive('banana')\n",
    "\n"
   ]
  },
  {
   "cell_type": "code",
   "execution_count": 6,
   "metadata": {},
   "outputs": [
    {
     "data": {
      "text/plain": [
       "[[1, 0, 2, 0, 2, 0], [2, 1, 3, 1, 3, 0], [3, 2, 5, 1, 4, 0]]"
      ]
     },
     "execution_count": 6,
     "metadata": {},
     "output_type": "execute_result"
    }
   ],
   "source": [
    "suffix_matrix_best('banana')"
   ]
  },
  {
   "cell_type": "code",
   "execution_count": null,
   "metadata": {},
   "outputs": [],
   "source": []
  }
 ],
 "metadata": {
  "kernelspec": {
   "display_name": "Python 3",
   "language": "python",
   "name": "python3"
  },
  "language_info": {
   "codemirror_mode": {
    "name": "ipython",
    "version": 3
   },
   "file_extension": ".py",
   "mimetype": "text/x-python",
   "name": "python",
   "nbconvert_exporter": "python",
   "pygments_lexer": "ipython3",
   "version": "3.7.6"
  }
 },
 "nbformat": 4,
 "nbformat_minor": 4
}
